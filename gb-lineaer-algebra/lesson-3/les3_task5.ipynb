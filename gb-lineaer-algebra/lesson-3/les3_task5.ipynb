{
 "cells": [
  {
   "cell_type": "code",
   "execution_count": 26,
   "metadata": {},
   "outputs": [],
   "source": [
    "def check_that_matrix(a):\n",
    "    num_of_columns = len(a[0])\n",
    "    for row in a:\n",
    "        if len(row) != num_of_columns:\n",
    "            raise Exception(\"not a meatrix\")\n",
    "\n",
    "def check_dims(a, b):\n",
    "    if len(a[0]) != len(b):\n",
    "        raise Exception(\"dims are not match\")\n"
   ]
  },
  {
   "cell_type": "code",
   "execution_count": 29,
   "metadata": {},
   "outputs": [],
   "source": [
    "def matrix_product(a, b):\n",
    "    check_that_matrix(a)\n",
    "    check_that_matrix(b)\n",
    "    check_dims(a, b)\n",
    "    \n",
    "    res = [[0 for row in range(len(b[0]))] for col in range(len(a))]\n",
    "    \n",
    "    for i in range(len(a)):\n",
    "        for j in range(len(b[0])):\n",
    "            for k in range(len(a[0])):\n",
    "                res[i][j] += a[i][k] * b[k][j]\n",
    "    return res"
   ]
  },
  {
   "cell_type": "code",
   "execution_count": 30,
   "metadata": {},
   "outputs": [
    {
     "data": {
      "text/plain": [
       "[[4, -11], [12, -3]]"
      ]
     },
     "execution_count": 30,
     "metadata": {},
     "output_type": "execute_result"
    }
   ],
   "source": [
    "a = [[1, -2], [3, 0]]\n",
    "b = [[4, -1], [0, 5]]\n",
    "matrix_product(a, b)"
   ]
  }
 ],
 "metadata": {
  "kernelspec": {
   "display_name": "Python 3",
   "language": "python",
   "name": "python3"
  },
  "language_info": {
   "codemirror_mode": {
    "name": "ipython",
    "version": 3
   },
   "file_extension": ".py",
   "mimetype": "text/x-python",
   "name": "python",
   "nbconvert_exporter": "python",
   "pygments_lexer": "ipython3",
   "version": "3.6.8"
  }
 },
 "nbformat": 4,
 "nbformat_minor": 2
}
