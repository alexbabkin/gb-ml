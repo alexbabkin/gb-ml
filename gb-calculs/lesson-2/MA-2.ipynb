{
 "cells": [
  {
   "cell_type": "markdown",
   "metadata": {},
   "source": [
    "# Task 2.2"
   ]
  },
  {
   "cell_type": "code",
   "execution_count": 7,
   "metadata": {},
   "outputs": [],
   "source": [
    "a = set('123')\n",
    "b = set('456')\n",
    "c = set('789')"
   ]
  },
  {
   "cell_type": "code",
   "execution_count": 15,
   "metadata": {},
   "outputs": [],
   "source": [
    "def print_bin_op_results(x, y):\n",
    "    un = x.union(y)\n",
    "    print(f'union result: {un}')\n",
    "    \n",
    "    intersect = x.intersection(y)\n",
    "    print(f'intersection result: {intersect}')\n",
    "    \n",
    "    xy_diff = x.difference(y)\n",
    "    print(f'x - y result: {xy_diff}')\n",
    "    \n",
    "    yx_diff = y.difference(x)\n",
    "    print(f'y - x result: {yx_diff}')\n",
    "    \n",
    "    sym_diff = x.symmetric_difference(y)\n",
    "    print(f'symmetric difference result: {sym_diff}')\n",
    "    \n",
    "    catr_prod = [{x_elem, y_elem} for x_elem in x for y_elem in y]\n",
    "    print(f'cartesian product result: {catr_prod}')"
   ]
  },
  {
   "cell_type": "code",
   "execution_count": 16,
   "metadata": {},
   "outputs": [
    {
     "name": "stdout",
     "output_type": "stream",
     "text": [
      "union result: {'4', '1', '6', '2', '3', '5'}\n",
      "intersection result: set()\n",
      "x - y result: {'3', '1', '2'}\n",
      "y - x result: {'4', '6', '5'}\n",
      "symmetric difference result: {'4', '6', '1', '2', '3', '5'}\n",
      "cartesian product result: [{'3', '4'}, {'3', '6'}, {'3', '5'}, {'4', '1'}, {'1', '6'}, {'1', '5'}, {'4', '2'}, {'6', '2'}, {'5', '2'}]\n"
     ]
    }
   ],
   "source": [
    "print_bin_op_results(a, b)"
   ]
  },
  {
   "cell_type": "code",
   "execution_count": 17,
   "metadata": {},
   "outputs": [
    {
     "name": "stdout",
     "output_type": "stream",
     "text": [
      "union result: {'9', '1', '7', '2', '3', '8'}\n",
      "intersection result: set()\n",
      "x - y result: {'3', '1', '2'}\n",
      "y - x result: {'9', '7', '8'}\n",
      "symmetric difference result: {'9', '8', '7', '1', '2', '3'}\n",
      "cartesian product result: [{'3', '9'}, {'3', '7'}, {'3', '8'}, {'9', '1'}, {'1', '7'}, {'1', '8'}, {'9', '2'}, {'7', '2'}, {'2', '8'}]\n"
     ]
    }
   ],
   "source": [
    "print_bin_op_results(a, c)"
   ]
  },
  {
   "cell_type": "code",
   "execution_count": 18,
   "metadata": {},
   "outputs": [
    {
     "name": "stdout",
     "output_type": "stream",
     "text": [
      "union result: {'4', '6', '9', '7', '5', '8'}\n",
      "intersection result: set()\n",
      "x - y result: {'4', '6', '5'}\n",
      "y - x result: {'9', '7', '8'}\n",
      "symmetric difference result: {'9', '8', '4', '7', '6', '5'}\n",
      "cartesian product result: [{'4', '9'}, {'4', '7'}, {'4', '8'}, {'9', '6'}, {'6', '7'}, {'6', '8'}, {'9', '5'}, {'7', '5'}, {'5', '8'}]\n"
     ]
    }
   ],
   "source": [
    "print_bin_op_results(b, c)"
   ]
  },
  {
   "cell_type": "markdown",
   "metadata": {},
   "source": [
    "# Task 3.3"
   ]
  },
  {
   "cell_type": "code",
   "execution_count": 37,
   "metadata": {},
   "outputs": [],
   "source": [
    "import math\n",
    "from decimal import Decimal"
   ]
  },
  {
   "cell_type": "code",
   "execution_count": 48,
   "metadata": {},
   "outputs": [],
   "source": [
    "def fun(n):\n",
    "    return n / pow(Decimal(math.factorial(n)), Decimal(1/n))"
   ]
  },
  {
   "cell_type": "code",
   "execution_count": 50,
   "metadata": {},
   "outputs": [],
   "source": [
    "eps = 0.0000001\n",
    "i = 2"
   ]
  },
  {
   "cell_type": "code",
   "execution_count": null,
   "metadata": {},
   "outputs": [],
   "source": [
    "while fun(i) - fun(i-1) > eps:\n",
    "    i += 1\n",
    "print(fun(i))"
   ]
  },
  {
   "cell_type": "markdown",
   "metadata": {},
   "source": [
    "# Task 3.4"
   ]
  },
  {
   "cell_type": "code",
   "execution_count": 52,
   "metadata": {},
   "outputs": [
    {
     "ename": "KeyboardInterrupt",
     "evalue": "",
     "output_type": "error",
     "traceback": [
      "\u001b[0;31m---------------------------------------------------------------------------\u001b[0m",
      "\u001b[0;31mKeyboardInterrupt\u001b[0m                         Traceback (most recent call last)",
      "\u001b[0;32m<ipython-input-52-5ae7fc16b55e>\u001b[0m in \u001b[0;36m<module>\u001b[0;34m\u001b[0m\n\u001b[0;32m----> 1\u001b[0;31m \u001b[0;32mwhile\u001b[0m \u001b[0mfun\u001b[0m\u001b[0;34m(\u001b[0m\u001b[0mi\u001b[0m\u001b[0;34m)\u001b[0m \u001b[0;34m-\u001b[0m \u001b[0mfun\u001b[0m\u001b[0;34m(\u001b[0m\u001b[0mi\u001b[0m\u001b[0;34m-\u001b[0m\u001b[0;36m1\u001b[0m\u001b[0;34m)\u001b[0m \u001b[0;34m>\u001b[0m \u001b[0meps\u001b[0m\u001b[0;34m:\u001b[0m\u001b[0;34m\u001b[0m\u001b[0;34m\u001b[0m\u001b[0m\n\u001b[0m\u001b[1;32m      2\u001b[0m     \u001b[0mi\u001b[0m \u001b[0;34m+=\u001b[0m \u001b[0;36m10\u001b[0m\u001b[0;34m\u001b[0m\u001b[0;34m\u001b[0m\u001b[0m\n\u001b[1;32m      3\u001b[0m \u001b[0mprint\u001b[0m\u001b[0;34m(\u001b[0m\u001b[0mfun\u001b[0m\u001b[0;34m(\u001b[0m\u001b[0mi\u001b[0m\u001b[0;34m)\u001b[0m\u001b[0;34m)\u001b[0m\u001b[0;34m\u001b[0m\u001b[0;34m\u001b[0m\u001b[0m\n",
      "\u001b[0;32m<ipython-input-48-9a2488d2602b>\u001b[0m in \u001b[0;36mfun\u001b[0;34m(n)\u001b[0m\n\u001b[1;32m      1\u001b[0m \u001b[0;32mdef\u001b[0m \u001b[0mfun\u001b[0m\u001b[0;34m(\u001b[0m\u001b[0mn\u001b[0m\u001b[0;34m)\u001b[0m\u001b[0;34m:\u001b[0m\u001b[0;34m\u001b[0m\u001b[0;34m\u001b[0m\u001b[0m\n\u001b[0;32m----> 2\u001b[0;31m     \u001b[0;32mreturn\u001b[0m \u001b[0mn\u001b[0m \u001b[0;34m/\u001b[0m \u001b[0mpow\u001b[0m\u001b[0;34m(\u001b[0m\u001b[0mDecimal\u001b[0m\u001b[0;34m(\u001b[0m\u001b[0mmath\u001b[0m\u001b[0;34m.\u001b[0m\u001b[0mfactorial\u001b[0m\u001b[0;34m(\u001b[0m\u001b[0mn\u001b[0m\u001b[0;34m)\u001b[0m\u001b[0;34m)\u001b[0m\u001b[0;34m,\u001b[0m \u001b[0mDecimal\u001b[0m\u001b[0;34m(\u001b[0m\u001b[0;36m1\u001b[0m\u001b[0;34m/\u001b[0m\u001b[0mn\u001b[0m\u001b[0;34m)\u001b[0m\u001b[0;34m)\u001b[0m\u001b[0;34m\u001b[0m\u001b[0;34m\u001b[0m\u001b[0m\n\u001b[0m",
      "\u001b[0;31mKeyboardInterrupt\u001b[0m: "
     ]
    }
   ],
   "source": [
    "while fun(i) - fun(i-1) > eps:\n",
    "    i += 10\n",
    "print(fun(i))"
   ]
  }
 ],
 "metadata": {
  "kernelspec": {
   "display_name": "Python 3",
   "language": "python",
   "name": "python3"
  },
  "language_info": {
   "codemirror_mode": {
    "name": "ipython",
    "version": 3
   },
   "file_extension": ".py",
   "mimetype": "text/x-python",
   "name": "python",
   "nbconvert_exporter": "python",
   "pygments_lexer": "ipython3",
   "version": "3.6.8"
  }
 },
 "nbformat": 4,
 "nbformat_minor": 2
}
